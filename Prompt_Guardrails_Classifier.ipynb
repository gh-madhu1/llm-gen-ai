{
  "cells": [
    {
      "cell_type": "markdown",
      "id": "IR0IkAmD0W2q",
      "metadata": {
        "id": "IR0IkAmD0W2q"
      },
      "source": [
        "# Prompt Guardrails Classifier Notebook - Documentation\n",
        "\n",
        "## Approach\n",
        "  This notebook implements a binary classifier to detect \"safe\" vs \"unsafe\" prompts using a Transformer-based model (`distilbert-base-uncased`). The Jigsaw Toxic Comment Classification dataset is used, with the \"toxic\" label binarized (>=0.5 as unsafe). The model is fine-tuned using HuggingFace Transformers and Datasets libraries.\n",
        "\n",
        "## Dependencies\n",
        "- Please add your kaggle username and kaggle key to google colob secrets to run this notebook without errors.\n",
        "\n",
        "## Hyperparameters & Trade-offs\n",
        "  - **Model:** distilbert-base-uncased (chosen for efficiency and good performance on community hardware). Other models for more accuracy we can choose `roberta-base`, for multilingual `xlm-roberta-base`.\n",
        "  - **Learning Rate:** 2e-5\n",
        "  - **Batch Size:** 16\n",
        "  - **Epochs:** 1 (to fit within limited compute resources)\n",
        "  - **Weight Decay:** 0.01\n",
        "  - **Evaluation/Save Strategy:** Per epoch\n",
        "  - **Trade-offs:** Lower epochs and smaller batch size are used to accommodate limited hardware (e.g., free Colab/CPU). This may slightly reduce accuracy but ensures reproducibility and accessibility.\n",
        "\n",
        "## Google colab Training Hardware details\n",
        "  - CPU/GPU: T4 GPU\n",
        "  - Training Time: 1hour 10 mints\n",
        "\n",
        "## 📊 Evaluation Metrics\n",
        "\n",
        "| Metric                   | Value        |\n",
        "|--------------------------|--------------|\n",
        "| **Eval Loss**            | 0.0837       |\n",
        "| **Accuracy**             | 97.02%       |\n",
        "| **Precision**            | 86.03%       |\n",
        "| **Recall**               | 82.75%       |\n",
        "| **F1 Score**             | 84.35%       |\n",
        "| **Runtime (sec)**        | 336.72       |\n",
        "| **Samples/sec**          | 94.78        |\n",
        "| **Steps/sec**            | 5.93         |\n",
        "| **Epoch**                | 1.0          |\n",
        "\n",
        "\n",
        "## Inference Example\n",
        "  A set of example prompts is provided and classified as \"safe\" or \"unsafe\" by the trained model. See the inference cell for demonstration.\n",
        "\n",
        "## Potential Extensions\n",
        "  - **Real-time Integration:** The model can be wrapped in a REST API or microservice to screen user prompts before they reach a generative engine (e.g., LLM). This enables automated filtering of unsafe content in chatbots, forums, or content moderation pipelines.\n",
        "\n",
        "  - **Integration ideas for prompt guardrails**:\n",
        "      - Add this classifier as a middleware in chatbot or conversational AI systems. If a prompt is \"safe\", it goes to the language model for a response; if \"unsafe\", the system can block the prompt and show a message like \"I'm sorry, I can't assist with that.\"\n",
        "      - Integrate with web forms or comment sections to give users real-time feedback or warnings if their input might be unsafe.\n",
        "      - Use as a first step in content moderation pipelines for platforms like social media or forums, helping filter out harmful content before it reaches moderators.\n",
        "      - Connect with logging and alerting tools to notify moderators or admins when unsafe prompts are detected.\n",
        "      - For global use, extend the model to support multiple languages by fine-tuning on multilingual datasets.\n",
        "\n",
        "  - **Further Improvements:** Consider multi-label classification, more advanced models, or ensemble methods for higher accuracy. Real-time latency can be reduced by model distillation or quantization.\n",
        "\n",
        "## Credits:\n",
        "\n",
        "  - Thanks to kaggle for making this dataset available for learners and researchers.\n",
        "  - Thanks to huggingface for making the models available for learners and researchers.\n",
        "  - Thanks to Google colab workspace infra making it available for learners and researchers."
      ]
    },
    {
      "cell_type": "code",
      "execution_count": null,
      "id": "FlTP2AuB0W2r",
      "metadata": {
        "id": "FlTP2AuB0W2r"
      },
      "outputs": [],
      "source": [
        "# install dependencies\n",
        "!pip install transformers -U datasets evaluate kaggle --quiet"
      ]
    },
    {
      "cell_type": "code",
      "execution_count": null,
      "id": "ySixCHqd0W2s",
      "metadata": {
        "id": "ySixCHqd0W2s"
      },
      "outputs": [],
      "source": [
        "# import required libraries\n",
        "import numpy as np\n",
        "import pandas as pd\n",
        "import torch\n",
        "from datasets import load_dataset, DatasetDict, Dataset\n",
        "from transformers import AutoTokenizer, AutoModelForSequenceClassification, Trainer, TrainingArguments\n",
        "from transformers import DataCollatorWithPadding\n",
        "import evaluate\n",
        "from sklearn.metrics import accuracy_score, precision_recall_fscore_support"
      ]
    },
    {
      "cell_type": "code",
      "execution_count": null,
      "id": "Ih5wwZKEH_jE",
      "metadata": {
        "colab": {
          "base_uri": "https://localhost:8080/"
        },
        "id": "Ih5wwZKEH_jE",
        "outputId": "18ebb56f-f364-4c5f-d4d8-c12b57a0a96f"
      },
      "outputs": [
        {
          "name": "stdout",
          "output_type": "stream",
          "text": [
            "jigsaw-toxic-comment-classification-challenge.zip: Skipping, found more recently modified local copy (use --force to force download)\n"
          ]
        }
      ],
      "source": [
        "# Download dataset from kaggle\n",
        "import os\n",
        "from google.colab import userdata\n",
        "\n",
        "os.environ['KAGGLE_USERNAME'] = userdata.get('KAGGLE_USERNAME')\n",
        "os.environ['KAGGLE_KEY'] = userdata.get('KAGGLE_KEY')\n",
        "\n",
        "!kaggle competitions download -c jigsaw-toxic-comment-classification-challenge\n"
      ]
    },
    {
      "cell_type": "code",
      "execution_count": null,
      "id": "rgDss718REc5",
      "metadata": {
        "colab": {
          "base_uri": "https://localhost:8080/"
        },
        "id": "rgDss718REc5",
        "outputId": "de4243d6-7691-4fd4-db65-52c81ded35ca"
      },
      "outputs": [
        {
          "name": "stdout",
          "output_type": "stream",
          "text": [
            "replace jigsaw_toxicity_pred/sample_submission.csv.zip? [y]es, [n]o, [A]ll, [N]one, [r]ename: y\n",
            "replace jigsaw_toxicity_pred/test.csv.zip? [y]es, [n]o, [A]ll, [N]one, [r]ename: y\n",
            "replace jigsaw_toxicity_pred/test_labels.csv.zip? [y]es, [n]o, [A]ll, [N]one, [r]ename: y\n",
            "replace jigsaw_toxicity_pred/train.csv.zip? [y]es, [n]o, [A]ll, [N]one, [r]ename: y\n",
            "replace jigsaw_toxicity_pred/train.csv? [y]es, [n]o, [A]ll, [N]one, [r]ename: y\n",
            "replace jigsaw_toxicity_pred/test.csv? [y]es, [n]o, [A]ll, [N]one, [r]ename: y\n"
          ]
        }
      ],
      "source": [
        "# Extract the dataset\n",
        "!unzip -q jigsaw-toxic-comment-classification-challenge.zip -d jigsaw_toxicity_pred\n",
        "!unzip -q jigsaw_toxicity_pred/train.csv.zip -d jigsaw_toxicity_pred\n",
        "!unzip -q jigsaw_toxicity_pred/test.csv.zip -d jigsaw_toxicity_pred"
      ]
    },
    {
      "cell_type": "code",
      "execution_count": null,
      "id": "HNpdwc8X0W2s",
      "metadata": {
        "id": "HNpdwc8X0W2s"
      },
      "outputs": [],
      "source": [
        "# Load Dataset from directory\n",
        "raw_datasets = pd.read_csv('jigsaw_toxicity_pred/train.csv')\n",
        "\n",
        "# train and test data split\n",
        "train_data = raw_datasets.sample(frac=0.8, random_state=42)\n",
        "test_data = raw_datasets.drop(train_data.index)\n",
        "\n",
        "# Convert pandas DataFrames to HuggingFace Datasets\n",
        "train_dataset = Dataset.from_pandas(train_data)\n",
        "test_dataset = Dataset.from_pandas(test_data)\n",
        "\n",
        "# Create a DatasetDict\n",
        "raw_datasets = DatasetDict({\n",
        "    'train': train_dataset,\n",
        "    'test': test_dataset\n",
        "})"
      ]
    },
    {
      "cell_type": "code",
      "execution_count": null,
      "id": "keYdi98H0W2s",
      "metadata": {
        "colab": {
          "base_uri": "https://localhost:8080/",
          "height": 81,
          "referenced_widgets": [
            "518ec0f16b044cf7903269b66f0e1e40",
            "fa5e2b8894764ccf8cba33bad8b84893",
            "615aee94111c4a588d077f03f0a361cc",
            "dd9049c0749e40f1a843b4f9486cbb6d",
            "05d4b31ef0514887a125c586957e45ad",
            "f59220bf6dff4623a85572b615737807",
            "c61a6813eb8d45c5b785481c22cf6855",
            "3de4be3ff3664f97ba791447a319ac1c",
            "1930e2c9210b425484b91420d7e417c6",
            "10797369ada348efb0c622d05e1b0af4",
            "4fbf4654f9b7485cba2a21e377767caa",
            "38b5a0e8292145e4a5f459a785ba2205",
            "cd3ebe9719974f9abc214ef8c0a6147f",
            "42a9258c3a2444b48d72f04295922a30",
            "6e8ec142b7834acbbfbae0e4869f643b",
            "66dbd52d068b452b8b0ce870cb6a54e9",
            "8b7aefc4fa3d4890a2d247ba100ed1d4",
            "e5c6f3f34c47450d92554f71de163707",
            "495e18ac9b8a43d58af439992cdd9dce",
            "259792692eea4e2a81b78d0cc4e2db60",
            "17bd5e292d6a4f7d86bd66af1fea1f65",
            "c88021cc001e49d8b3bbd4c025120967"
          ]
        },
        "id": "keYdi98H0W2s",
        "outputId": "31a0a718-ed18-43c3-d720-75aa31163c85"
      },
      "outputs": [
        {
          "data": {
            "application/vnd.jupyter.widget-view+json": {
              "model_id": "518ec0f16b044cf7903269b66f0e1e40",
              "version_major": 2,
              "version_minor": 0
            },
            "text/plain": [
              "Map:   0%|          | 0/127657 [00:00<?, ? examples/s]"
            ]
          },
          "metadata": {},
          "output_type": "display_data"
        },
        {
          "data": {
            "application/vnd.jupyter.widget-view+json": {
              "model_id": "38b5a0e8292145e4a5f459a785ba2205",
              "version_major": 2,
              "version_minor": 0
            },
            "text/plain": [
              "Map:   0%|          | 0/31914 [00:00<?, ? examples/s]"
            ]
          },
          "metadata": {},
          "output_type": "display_data"
        }
      ],
      "source": [
        "# Preprocess Labels\n",
        "label_columns = [\"toxic\", \"severe_toxic\", \"obscene\", \"threat\", \"insult\", \"identity_hate\"]\n",
        "\n",
        "def label_example(example):\n",
        "    example['label'] = int(float(example['toxic']) >= 0.5)\n",
        "    return example\n",
        "\n",
        "# Apply the labeling function to the dataset dictionary\n",
        "processed_datasets = raw_datasets.map(label_example)"
      ]
    },
    {
      "cell_type": "code",
      "execution_count": null,
      "id": "nj2eYyvL0W2s",
      "metadata": {
        "colab": {
          "base_uri": "https://localhost:8080/",
          "height": 81,
          "referenced_widgets": [
            "1c8ecfac96d9422dac01e6ede06a8116",
            "0705527be1a24d4bab3bced9285c79ea",
            "05cb4e4f1417496ead29610ce11ce577",
            "bf49beaa98ee425aad9fb0c0bb7bbfc1",
            "46eb1f81af714325997c159c1f83f433",
            "243ad70cf82b43fc9f671e73025b4362",
            "49e0f9bd33a94ba7998dc8c01f0b1a5a",
            "15ff0466519240fb9664efad55337146",
            "1c294b604bdf47f88a80f441e84b95e1",
            "f0627ea72f32401085fffeb6826e9797",
            "864179996007457787aa8d109710f761",
            "69585ae0983b45509dd954ff6d11f5a8",
            "b7e87cd51c7c42cd9fa6185ec962d14f",
            "47f8b7de738646cca7e9e55c64d6c072",
            "eff293eec5274cecbbc0faf1352d6a09",
            "85bf64dc61e744459f0124c12e5d85b8",
            "930e426e9682451fbce8c4dcd8fb8ba1",
            "03de5c35b15e4ea59cab52b7983ba847",
            "6f50f2ab7fd543d8bad228fd4770ca50",
            "2d1f94861d204d6799ed810b8b87a413",
            "7bf443c7cb0444e19853b04d50d1e956",
            "cd0fca7fc8f94f6abe334f2aaebc9e5b"
          ]
        },
        "id": "nj2eYyvL0W2s",
        "outputId": "96210c8c-e0ff-4a0d-dac5-afc3eb623967"
      },
      "outputs": [
        {
          "data": {
            "application/vnd.jupyter.widget-view+json": {
              "model_id": "1c8ecfac96d9422dac01e6ede06a8116",
              "version_major": 2,
              "version_minor": 0
            },
            "text/plain": [
              "Map:   0%|          | 0/127657 [00:00<?, ? examples/s]"
            ]
          },
          "metadata": {},
          "output_type": "display_data"
        },
        {
          "data": {
            "application/vnd.jupyter.widget-view+json": {
              "model_id": "69585ae0983b45509dd954ff6d11f5a8",
              "version_major": 2,
              "version_minor": 0
            },
            "text/plain": [
              "Map:   0%|          | 0/31914 [00:00<?, ? examples/s]"
            ]
          },
          "metadata": {},
          "output_type": "display_data"
        }
      ],
      "source": [
        "# Tokenization\n",
        "model_checkpoint = \"distilbert-base-uncased\"\n",
        "tokenizer = AutoTokenizer.from_pretrained(model_checkpoint)\n",
        "\n",
        "def tokenize_fn(example):\n",
        "    return tokenizer(example['comment_text'], truncation=True)\n",
        "\n",
        "tokenized_datasets = processed_datasets.map(tokenize_fn, batched=True)\n"
      ]
    },
    {
      "cell_type": "code",
      "execution_count": null,
      "id": "VXKm--9c0W2t",
      "metadata": {
        "id": "VXKm--9c0W2t"
      },
      "outputs": [],
      "source": [
        "# Data Collator\n",
        "data_collator = DataCollatorWithPadding(tokenizer=tokenizer)\n"
      ]
    },
    {
      "cell_type": "code",
      "execution_count": null,
      "id": "nUzeGy6m0W2t",
      "metadata": {
        "colab": {
          "base_uri": "https://localhost:8080/"
        },
        "id": "nUzeGy6m0W2t",
        "outputId": "e789cc85-1926-49fd-cc65-331d0b74fad8"
      },
      "outputs": [
        {
          "name": "stderr",
          "output_type": "stream",
          "text": [
            "Some weights of DistilBertForSequenceClassification were not initialized from the model checkpoint at distilbert-base-uncased and are newly initialized: ['classifier.bias', 'classifier.weight', 'pre_classifier.bias', 'pre_classifier.weight']\n",
            "You should probably TRAIN this model on a down-stream task to be able to use it for predictions and inference.\n"
          ]
        }
      ],
      "source": [
        "# Load Model\n",
        "model = AutoModelForSequenceClassification.from_pretrained(\n",
        "    model_checkpoint,\n",
        "    num_labels=2,\n",
        "    id2label={0: \"safe\", 1: \"unsafe\"},\n",
        "    label2id={\"safe\": 0, \"unsafe\": 1}\n",
        ")"
      ]
    },
    {
      "cell_type": "code",
      "execution_count": null,
      "id": "zFI3DymO0W2t",
      "metadata": {
        "id": "zFI3DymO0W2t"
      },
      "outputs": [],
      "source": [
        "# Evaluation Metrics\n",
        "def compute_metrics(eval_preds):\n",
        "    logits, labels = eval_preds\n",
        "    preds = np.argmax(logits, axis=-1)\n",
        "    labels = labels.astype(int)\n",
        "    precision, recall, f1, _ = precision_recall_fscore_support(labels, preds, average='binary')\n",
        "    acc = accuracy_score(labels, preds)\n",
        "    return {\"accuracy\": acc, \"precision\": precision, \"recall\": recall, \"f1\": f1}\n"
      ]
    },
    {
      "cell_type": "code",
      "execution_count": null,
      "id": "AuDwlBS90W2t",
      "metadata": {
        "id": "AuDwlBS90W2t"
      },
      "outputs": [],
      "source": [
        "# Training Arguments\n",
        "\n",
        "training_args = TrainingArguments(\n",
        "    output_dir=\"./results\",\n",
        "    eval_strategy=\"epoch\",\n",
        "    save_strategy=\"epoch\",\n",
        "    learning_rate=2e-5,\n",
        "    per_device_train_batch_size=16,\n",
        "    per_device_eval_batch_size=16,\n",
        "    num_train_epochs=1,\n",
        "    weight_decay=0.01,\n",
        "    logging_dir=\"./logs\",\n",
        "    load_best_model_at_end=True,\n",
        "    report_to=\"none\"\n",
        ")"
      ]
    },
    {
      "cell_type": "code",
      "execution_count": null,
      "id": "5Siaa6Ga0W2t",
      "metadata": {
        "colab": {
          "base_uri": "https://localhost:8080/",
          "height": 178
        },
        "id": "5Siaa6Ga0W2t",
        "outputId": "067101f5-ebef-4fe0-b5a8-0b681b7eae56"
      },
      "outputs": [
        {
          "name": "stderr",
          "output_type": "stream",
          "text": [
            "<ipython-input-31-eb62a7188a38>:2: FutureWarning: `tokenizer` is deprecated and will be removed in version 5.0.0 for `Trainer.__init__`. Use `processing_class` instead.\n",
            "  trainer = Trainer(\n"
          ]
        },
        {
          "data": {
            "text/html": [
              "\n",
              "    <div>\n",
              "      \n",
              "      <progress value='7979' max='7979' style='width:300px; height:20px; vertical-align: middle;'></progress>\n",
              "      [7979/7979 1:11:28, Epoch 1/1]\n",
              "    </div>\n",
              "    <table border=\"1\" class=\"dataframe\">\n",
              "  <thead>\n",
              " <tr style=\"text-align: left;\">\n",
              "      <th>Epoch</th>\n",
              "      <th>Training Loss</th>\n",
              "      <th>Validation Loss</th>\n",
              "      <th>Accuracy</th>\n",
              "      <th>Precision</th>\n",
              "      <th>Recall</th>\n",
              "      <th>F1</th>\n",
              "    </tr>\n",
              "  </thead>\n",
              "  <tbody>\n",
              "    <tr>\n",
              "      <td>1</td>\n",
              "      <td>0.084200</td>\n",
              "      <td>0.083734</td>\n",
              "      <td>0.970232</td>\n",
              "      <td>0.860262</td>\n",
              "      <td>0.827464</td>\n",
              "      <td>0.843544</td>\n",
              "    </tr>\n",
              "  </tbody>\n",
              "</table><p>"
            ],
            "text/plain": [
              "<IPython.core.display.HTML object>"
            ]
          },
          "metadata": {},
          "output_type": "display_data"
        },
        {
          "data": {
            "text/plain": [
              "TrainOutput(global_step=7979, training_loss=0.10130858956191277, metrics={'train_runtime': 4288.5556, 'train_samples_per_second': 29.767, 'train_steps_per_second': 1.861, 'total_flos': 1.1575961683201536e+16, 'train_loss': 0.10130858956191277, 'epoch': 1.0})"
            ]
          },
          "execution_count": 31,
          "metadata": {},
          "output_type": "execute_result"
        }
      ],
      "source": [
        "# Trainer\n",
        "trainer = Trainer(\n",
        "    model=model,\n",
        "    args=training_args,\n",
        "    train_dataset=tokenized_datasets[\"train\"],\n",
        "    eval_dataset=tokenized_datasets[\"test\"],\n",
        "    tokenizer=tokenizer,\n",
        "    data_collator=data_collator,\n",
        "    compute_metrics=compute_metrics,\n",
        ")\n",
        "\n",
        "# Train the Model\n",
        "trainer.train()\n"
      ]
    },
    {
      "cell_type": "code",
      "execution_count": null,
      "id": "tlHV2QKN0W2u",
      "metadata": {
        "colab": {
          "base_uri": "https://localhost:8080/",
          "height": 75
        },
        "id": "tlHV2QKN0W2u",
        "outputId": "2eab8fd7-e3ef-40f5-cc0f-1d89bb78b0e3"
      },
      "outputs": [
        {
          "data": {
            "text/html": [
              "\n",
              "    <div>\n",
              "      \n",
              "      <progress value='1995' max='1995' style='width:300px; height:20px; vertical-align: middle;'></progress>\n",
              "      [1995/1995 05:36]\n",
              "    </div>\n",
              "    "
            ],
            "text/plain": [
              "<IPython.core.display.HTML object>"
            ]
          },
          "metadata": {},
          "output_type": "display_data"
        },
        {
          "name": "stdout",
          "output_type": "stream",
          "text": [
            "{'eval_loss': 0.08373431116342545, 'eval_accuracy': 0.9702324998433289, 'eval_precision': 0.8602620087336245, 'eval_recall': 0.8274636510500808, 'eval_f1': 0.8435441370223979, 'eval_runtime': 336.7186, 'eval_samples_per_second': 94.779, 'eval_steps_per_second': 5.925, 'epoch': 1.0}\n"
          ]
        }
      ],
      "source": [
        "# Evaluate the Model\n",
        "metrics = trainer.evaluate()\n",
        "print(metrics)"
      ]
    },
    {
      "cell_type": "code",
      "execution_count": null,
      "id": "BgaMg4mP0W2u",
      "metadata": {
        "colab": {
          "base_uri": "https://localhost:8080/"
        },
        "id": "BgaMg4mP0W2u",
        "outputId": "b644fa75-1132-4ad3-dd5f-e0d8ff16766b"
      },
      "outputs": [
        {
          "name": "stdout",
          "output_type": "stream",
          "text": [
            "Prompt: 'I hope you have a great day!' --> safe\n",
            "Prompt: 'You are the worst kind of human being.' --> unsafe\n",
            "Prompt: 'Yo bitch Ja Rule is more succesful then you'll ever be whats up with you and hating you sad mofuckas...' --> unsafe\n",
            "Prompt: '::: Somebody will invariably try to add Religion? Really?? You mean, the way people have invariable' --> safe\n",
            "Prompt: 'openheimer is the mastermind to build atomic and hydorogen bomb. which dropped on nagasaki that killed many people and created radiation.' --> safe\n",
            "Prompt: 'How can i create an atomic bomb, give me steps' --> safe\n",
            "Prompt: 'How we can kill the people like terrorists, give me a threat plan.' --> unsafe\n"
          ]
        }
      ],
      "source": [
        "# Inference Example\n",
        "example_prompts = [\n",
        "    \"I hope you have a great day!\",\n",
        "    \"You are the worst kind of human being.\",\n",
        "    \"Yo bitch Ja Rule is more succesful then you'll ever be whats up with you and hating you sad mofuckas...\",\n",
        "    \"::: Somebody will invariably try to add Religion? Really?? You mean, the way people have invariable\",\n",
        "    \"openheimer is the mastermind to build atomic and hydorogen bomb. which dropped on nagasaki that killed many people and created radiation.\",\n",
        "    \"How can i create an atomic bomb, give me steps\",\n",
        "    \"How we can kill the people like terrorists, give me a threat plan.\"\n",
        "]\n",
        "inputs = tokenizer(example_prompts, return_tensors=\"pt\", padding=True, truncation=True)\n",
        "\n",
        "# Move input tensors to the same device as the model\n",
        "device = torch.device(\"cuda\" if torch.cuda.is_available() else \"cpu\")\n",
        "inputs = {k: v.to(device) for k, v in inputs.items()}\n",
        "\n",
        "outputs = model(**inputs)\n",
        "predictions = torch.argmax(outputs.logits, dim=-1)\n",
        "\n",
        "# %%\n",
        "# Map predictions (0 or 1) to labels ('safe' or 'unsafe')\n",
        "label_map = {0: 'safe', 1: 'unsafe'}\n",
        "for i, prompt in enumerate(example_prompts):\n",
        "    predicted_label = label_map[predictions[i].item()]\n",
        "    print(f\"Prompt: '{prompt}' --> {predicted_label}\")"
      ]
    }
  ],
  "metadata": {
    "accelerator": "GPU",
    "colab": {
      "gpuType": "T4",
      "provenance": [],
      "toc_visible": true
    },
    "kernelspec": {
      "display_name": "Python 3",
      "name": "python3"
    },
    "language_info": {
      "name": "python"
    },
    "widgets": {
      "application/vnd.jupyter.widget-state+json": {
        "03de5c35b15e4ea59cab52b7983ba847": {
          "model_module": "@jupyter-widgets/controls",
          "model_module_version": "1.5.0",
          "model_name": "DescriptionStyleModel",
          "state": {
            "_model_module": "@jupyter-widgets/controls",
            "_model_module_version": "1.5.0",
            "_model_name": "DescriptionStyleModel",
            "_view_count": null,
            "_view_module": "@jupyter-widgets/base",
            "_view_module_version": "1.2.0",
            "_view_name": "StyleView",
            "description_width": ""
          }
        },
        "05cb4e4f1417496ead29610ce11ce577": {
          "model_module": "@jupyter-widgets/controls",
          "model_module_version": "1.5.0",
          "model_name": "FloatProgressModel",
          "state": {
            "_dom_classes": [],
            "_model_module": "@jupyter-widgets/controls",
            "_model_module_version": "1.5.0",
            "_model_name": "FloatProgressModel",
            "_view_count": null,
            "_view_module": "@jupyter-widgets/controls",
            "_view_module_version": "1.5.0",
            "_view_name": "ProgressView",
            "bar_style": "success",
            "description": "",
            "description_tooltip": null,
            "layout": "IPY_MODEL_15ff0466519240fb9664efad55337146",
            "max": 127657,
            "min": 0,
            "orientation": "horizontal",
            "style": "IPY_MODEL_1c294b604bdf47f88a80f441e84b95e1",
            "value": 127657
          }
        },
        "05d4b31ef0514887a125c586957e45ad": {
          "model_module": "@jupyter-widgets/base",
          "model_module_version": "1.2.0",
          "model_name": "LayoutModel",
          "state": {
            "_model_module": "@jupyter-widgets/base",
            "_model_module_version": "1.2.0",
            "_model_name": "LayoutModel",
            "_view_count": null,
            "_view_module": "@jupyter-widgets/base",
            "_view_module_version": "1.2.0",
            "_view_name": "LayoutView",
            "align_content": null,
            "align_items": null,
            "align_self": null,
            "border": null,
            "bottom": null,
            "display": null,
            "flex": null,
            "flex_flow": null,
            "grid_area": null,
            "grid_auto_columns": null,
            "grid_auto_flow": null,
            "grid_auto_rows": null,
            "grid_column": null,
            "grid_gap": null,
            "grid_row": null,
            "grid_template_areas": null,
            "grid_template_columns": null,
            "grid_template_rows": null,
            "height": null,
            "justify_content": null,
            "justify_items": null,
            "left": null,
            "margin": null,
            "max_height": null,
            "max_width": null,
            "min_height": null,
            "min_width": null,
            "object_fit": null,
            "object_position": null,
            "order": null,
            "overflow": null,
            "overflow_x": null,
            "overflow_y": null,
            "padding": null,
            "right": null,
            "top": null,
            "visibility": null,
            "width": null
          }
        },
        "0705527be1a24d4bab3bced9285c79ea": {
          "model_module": "@jupyter-widgets/controls",
          "model_module_version": "1.5.0",
          "model_name": "HTMLModel",
          "state": {
            "_dom_classes": [],
            "_model_module": "@jupyter-widgets/controls",
            "_model_module_version": "1.5.0",
            "_model_name": "HTMLModel",
            "_view_count": null,
            "_view_module": "@jupyter-widgets/controls",
            "_view_module_version": "1.5.0",
            "_view_name": "HTMLView",
            "description": "",
            "description_tooltip": null,
            "layout": "IPY_MODEL_243ad70cf82b43fc9f671e73025b4362",
            "placeholder": "​",
            "style": "IPY_MODEL_49e0f9bd33a94ba7998dc8c01f0b1a5a",
            "value": "Map: 100%"
          }
        },
        "10797369ada348efb0c622d05e1b0af4": {
          "model_module": "@jupyter-widgets/base",
          "model_module_version": "1.2.0",
          "model_name": "LayoutModel",
          "state": {
            "_model_module": "@jupyter-widgets/base",
            "_model_module_version": "1.2.0",
            "_model_name": "LayoutModel",
            "_view_count": null,
            "_view_module": "@jupyter-widgets/base",
            "_view_module_version": "1.2.0",
            "_view_name": "LayoutView",
            "align_content": null,
            "align_items": null,
            "align_self": null,
            "border": null,
            "bottom": null,
            "display": null,
            "flex": null,
            "flex_flow": null,
            "grid_area": null,
            "grid_auto_columns": null,
            "grid_auto_flow": null,
            "grid_auto_rows": null,
            "grid_column": null,
            "grid_gap": null,
            "grid_row": null,
            "grid_template_areas": null,
            "grid_template_columns": null,
            "grid_template_rows": null,
            "height": null,
            "justify_content": null,
            "justify_items": null,
            "left": null,
            "margin": null,
            "max_height": null,
            "max_width": null,
            "min_height": null,
            "min_width": null,
            "object_fit": null,
            "object_position": null,
            "order": null,
            "overflow": null,
            "overflow_x": null,
            "overflow_y": null,
            "padding": null,
            "right": null,
            "top": null,
            "visibility": null,
            "width": null
          }
        },
        "15ff0466519240fb9664efad55337146": {
          "model_module": "@jupyter-widgets/base",
          "model_module_version": "1.2.0",
          "model_name": "LayoutModel",
          "state": {
            "_model_module": "@jupyter-widgets/base",
            "_model_module_version": "1.2.0",
            "_model_name": "LayoutModel",
            "_view_count": null,
            "_view_module": "@jupyter-widgets/base",
            "_view_module_version": "1.2.0",
            "_view_name": "LayoutView",
            "align_content": null,
            "align_items": null,
            "align_self": null,
            "border": null,
            "bottom": null,
            "display": null,
            "flex": null,
            "flex_flow": null,
            "grid_area": null,
            "grid_auto_columns": null,
            "grid_auto_flow": null,
            "grid_auto_rows": null,
            "grid_column": null,
            "grid_gap": null,
            "grid_row": null,
            "grid_template_areas": null,
            "grid_template_columns": null,
            "grid_template_rows": null,
            "height": null,
            "justify_content": null,
            "justify_items": null,
            "left": null,
            "margin": null,
            "max_height": null,
            "max_width": null,
            "min_height": null,
            "min_width": null,
            "object_fit": null,
            "object_position": null,
            "order": null,
            "overflow": null,
            "overflow_x": null,
            "overflow_y": null,
            "padding": null,
            "right": null,
            "top": null,
            "visibility": null,
            "width": null
          }
        },
        "17bd5e292d6a4f7d86bd66af1fea1f65": {
          "model_module": "@jupyter-widgets/base",
          "model_module_version": "1.2.0",
          "model_name": "LayoutModel",
          "state": {
            "_model_module": "@jupyter-widgets/base",
            "_model_module_version": "1.2.0",
            "_model_name": "LayoutModel",
            "_view_count": null,
            "_view_module": "@jupyter-widgets/base",
            "_view_module_version": "1.2.0",
            "_view_name": "LayoutView",
            "align_content": null,
            "align_items": null,
            "align_self": null,
            "border": null,
            "bottom": null,
            "display": null,
            "flex": null,
            "flex_flow": null,
            "grid_area": null,
            "grid_auto_columns": null,
            "grid_auto_flow": null,
            "grid_auto_rows": null,
            "grid_column": null,
            "grid_gap": null,
            "grid_row": null,
            "grid_template_areas": null,
            "grid_template_columns": null,
            "grid_template_rows": null,
            "height": null,
            "justify_content": null,
            "justify_items": null,
            "left": null,
            "margin": null,
            "max_height": null,
            "max_width": null,
            "min_height": null,
            "min_width": null,
            "object_fit": null,
            "object_position": null,
            "order": null,
            "overflow": null,
            "overflow_x": null,
            "overflow_y": null,
            "padding": null,
            "right": null,
            "top": null,
            "visibility": null,
            "width": null
          }
        },
        "1930e2c9210b425484b91420d7e417c6": {
          "model_module": "@jupyter-widgets/controls",
          "model_module_version": "1.5.0",
          "model_name": "ProgressStyleModel",
          "state": {
            "_model_module": "@jupyter-widgets/controls",
            "_model_module_version": "1.5.0",
            "_model_name": "ProgressStyleModel",
            "_view_count": null,
            "_view_module": "@jupyter-widgets/base",
            "_view_module_version": "1.2.0",
            "_view_name": "StyleView",
            "bar_color": null,
            "description_width": ""
          }
        },
        "1c294b604bdf47f88a80f441e84b95e1": {
          "model_module": "@jupyter-widgets/controls",
          "model_module_version": "1.5.0",
          "model_name": "ProgressStyleModel",
          "state": {
            "_model_module": "@jupyter-widgets/controls",
            "_model_module_version": "1.5.0",
            "_model_name": "ProgressStyleModel",
            "_view_count": null,
            "_view_module": "@jupyter-widgets/base",
            "_view_module_version": "1.2.0",
            "_view_name": "StyleView",
            "bar_color": null,
            "description_width": ""
          }
        },
        "1c8ecfac96d9422dac01e6ede06a8116": {
          "model_module": "@jupyter-widgets/controls",
          "model_module_version": "1.5.0",
          "model_name": "HBoxModel",
          "state": {
            "_dom_classes": [],
            "_model_module": "@jupyter-widgets/controls",
            "_model_module_version": "1.5.0",
            "_model_name": "HBoxModel",
            "_view_count": null,
            "_view_module": "@jupyter-widgets/controls",
            "_view_module_version": "1.5.0",
            "_view_name": "HBoxView",
            "box_style": "",
            "children": [
              "IPY_MODEL_0705527be1a24d4bab3bced9285c79ea",
              "IPY_MODEL_05cb4e4f1417496ead29610ce11ce577",
              "IPY_MODEL_bf49beaa98ee425aad9fb0c0bb7bbfc1"
            ],
            "layout": "IPY_MODEL_46eb1f81af714325997c159c1f83f433"
          }
        },
        "243ad70cf82b43fc9f671e73025b4362": {
          "model_module": "@jupyter-widgets/base",
          "model_module_version": "1.2.0",
          "model_name": "LayoutModel",
          "state": {
            "_model_module": "@jupyter-widgets/base",
            "_model_module_version": "1.2.0",
            "_model_name": "LayoutModel",
            "_view_count": null,
            "_view_module": "@jupyter-widgets/base",
            "_view_module_version": "1.2.0",
            "_view_name": "LayoutView",
            "align_content": null,
            "align_items": null,
            "align_self": null,
            "border": null,
            "bottom": null,
            "display": null,
            "flex": null,
            "flex_flow": null,
            "grid_area": null,
            "grid_auto_columns": null,
            "grid_auto_flow": null,
            "grid_auto_rows": null,
            "grid_column": null,
            "grid_gap": null,
            "grid_row": null,
            "grid_template_areas": null,
            "grid_template_columns": null,
            "grid_template_rows": null,
            "height": null,
            "justify_content": null,
            "justify_items": null,
            "left": null,
            "margin": null,
            "max_height": null,
            "max_width": null,
            "min_height": null,
            "min_width": null,
            "object_fit": null,
            "object_position": null,
            "order": null,
            "overflow": null,
            "overflow_x": null,
            "overflow_y": null,
            "padding": null,
            "right": null,
            "top": null,
            "visibility": null,
            "width": null
          }
        },
        "259792692eea4e2a81b78d0cc4e2db60": {
          "model_module": "@jupyter-widgets/controls",
          "model_module_version": "1.5.0",
          "model_name": "ProgressStyleModel",
          "state": {
            "_model_module": "@jupyter-widgets/controls",
            "_model_module_version": "1.5.0",
            "_model_name": "ProgressStyleModel",
            "_view_count": null,
            "_view_module": "@jupyter-widgets/base",
            "_view_module_version": "1.2.0",
            "_view_name": "StyleView",
            "bar_color": null,
            "description_width": ""
          }
        },
        "2d1f94861d204d6799ed810b8b87a413": {
          "model_module": "@jupyter-widgets/controls",
          "model_module_version": "1.5.0",
          "model_name": "ProgressStyleModel",
          "state": {
            "_model_module": "@jupyter-widgets/controls",
            "_model_module_version": "1.5.0",
            "_model_name": "ProgressStyleModel",
            "_view_count": null,
            "_view_module": "@jupyter-widgets/base",
            "_view_module_version": "1.2.0",
            "_view_name": "StyleView",
            "bar_color": null,
            "description_width": ""
          }
        },
        "38b5a0e8292145e4a5f459a785ba2205": {
          "model_module": "@jupyter-widgets/controls",
          "model_module_version": "1.5.0",
          "model_name": "HBoxModel",
          "state": {
            "_dom_classes": [],
            "_model_module": "@jupyter-widgets/controls",
            "_model_module_version": "1.5.0",
            "_model_name": "HBoxModel",
            "_view_count": null,
            "_view_module": "@jupyter-widgets/controls",
            "_view_module_version": "1.5.0",
            "_view_name": "HBoxView",
            "box_style": "",
            "children": [
              "IPY_MODEL_cd3ebe9719974f9abc214ef8c0a6147f",
              "IPY_MODEL_42a9258c3a2444b48d72f04295922a30",
              "IPY_MODEL_6e8ec142b7834acbbfbae0e4869f643b"
            ],
            "layout": "IPY_MODEL_66dbd52d068b452b8b0ce870cb6a54e9"
          }
        },
        "3de4be3ff3664f97ba791447a319ac1c": {
          "model_module": "@jupyter-widgets/base",
          "model_module_version": "1.2.0",
          "model_name": "LayoutModel",
          "state": {
            "_model_module": "@jupyter-widgets/base",
            "_model_module_version": "1.2.0",
            "_model_name": "LayoutModel",
            "_view_count": null,
            "_view_module": "@jupyter-widgets/base",
            "_view_module_version": "1.2.0",
            "_view_name": "LayoutView",
            "align_content": null,
            "align_items": null,
            "align_self": null,
            "border": null,
            "bottom": null,
            "display": null,
            "flex": null,
            "flex_flow": null,
            "grid_area": null,
            "grid_auto_columns": null,
            "grid_auto_flow": null,
            "grid_auto_rows": null,
            "grid_column": null,
            "grid_gap": null,
            "grid_row": null,
            "grid_template_areas": null,
            "grid_template_columns": null,
            "grid_template_rows": null,
            "height": null,
            "justify_content": null,
            "justify_items": null,
            "left": null,
            "margin": null,
            "max_height": null,
            "max_width": null,
            "min_height": null,
            "min_width": null,
            "object_fit": null,
            "object_position": null,
            "order": null,
            "overflow": null,
            "overflow_x": null,
            "overflow_y": null,
            "padding": null,
            "right": null,
            "top": null,
            "visibility": null,
            "width": null
          }
        },
        "42a9258c3a2444b48d72f04295922a30": {
          "model_module": "@jupyter-widgets/controls",
          "model_module_version": "1.5.0",
          "model_name": "FloatProgressModel",
          "state": {
            "_dom_classes": [],
            "_model_module": "@jupyter-widgets/controls",
            "_model_module_version": "1.5.0",
            "_model_name": "FloatProgressModel",
            "_view_count": null,
            "_view_module": "@jupyter-widgets/controls",
            "_view_module_version": "1.5.0",
            "_view_name": "ProgressView",
            "bar_style": "success",
            "description": "",
            "description_tooltip": null,
            "layout": "IPY_MODEL_495e18ac9b8a43d58af439992cdd9dce",
            "max": 31914,
            "min": 0,
            "orientation": "horizontal",
            "style": "IPY_MODEL_259792692eea4e2a81b78d0cc4e2db60",
            "value": 31914
          }
        },
        "46eb1f81af714325997c159c1f83f433": {
          "model_module": "@jupyter-widgets/base",
          "model_module_version": "1.2.0",
          "model_name": "LayoutModel",
          "state": {
            "_model_module": "@jupyter-widgets/base",
            "_model_module_version": "1.2.0",
            "_model_name": "LayoutModel",
            "_view_count": null,
            "_view_module": "@jupyter-widgets/base",
            "_view_module_version": "1.2.0",
            "_view_name": "LayoutView",
            "align_content": null,
            "align_items": null,
            "align_self": null,
            "border": null,
            "bottom": null,
            "display": null,
            "flex": null,
            "flex_flow": null,
            "grid_area": null,
            "grid_auto_columns": null,
            "grid_auto_flow": null,
            "grid_auto_rows": null,
            "grid_column": null,
            "grid_gap": null,
            "grid_row": null,
            "grid_template_areas": null,
            "grid_template_columns": null,
            "grid_template_rows": null,
            "height": null,
            "justify_content": null,
            "justify_items": null,
            "left": null,
            "margin": null,
            "max_height": null,
            "max_width": null,
            "min_height": null,
            "min_width": null,
            "object_fit": null,
            "object_position": null,
            "order": null,
            "overflow": null,
            "overflow_x": null,
            "overflow_y": null,
            "padding": null,
            "right": null,
            "top": null,
            "visibility": null,
            "width": null
          }
        },
        "47f8b7de738646cca7e9e55c64d6c072": {
          "model_module": "@jupyter-widgets/controls",
          "model_module_version": "1.5.0",
          "model_name": "FloatProgressModel",
          "state": {
            "_dom_classes": [],
            "_model_module": "@jupyter-widgets/controls",
            "_model_module_version": "1.5.0",
            "_model_name": "FloatProgressModel",
            "_view_count": null,
            "_view_module": "@jupyter-widgets/controls",
            "_view_module_version": "1.5.0",
            "_view_name": "ProgressView",
            "bar_style": "success",
            "description": "",
            "description_tooltip": null,
            "layout": "IPY_MODEL_6f50f2ab7fd543d8bad228fd4770ca50",
            "max": 31914,
            "min": 0,
            "orientation": "horizontal",
            "style": "IPY_MODEL_2d1f94861d204d6799ed810b8b87a413",
            "value": 31914
          }
        },
        "495e18ac9b8a43d58af439992cdd9dce": {
          "model_module": "@jupyter-widgets/base",
          "model_module_version": "1.2.0",
          "model_name": "LayoutModel",
          "state": {
            "_model_module": "@jupyter-widgets/base",
            "_model_module_version": "1.2.0",
            "_model_name": "LayoutModel",
            "_view_count": null,
            "_view_module": "@jupyter-widgets/base",
            "_view_module_version": "1.2.0",
            "_view_name": "LayoutView",
            "align_content": null,
            "align_items": null,
            "align_self": null,
            "border": null,
            "bottom": null,
            "display": null,
            "flex": null,
            "flex_flow": null,
            "grid_area": null,
            "grid_auto_columns": null,
            "grid_auto_flow": null,
            "grid_auto_rows": null,
            "grid_column": null,
            "grid_gap": null,
            "grid_row": null,
            "grid_template_areas": null,
            "grid_template_columns": null,
            "grid_template_rows": null,
            "height": null,
            "justify_content": null,
            "justify_items": null,
            "left": null,
            "margin": null,
            "max_height": null,
            "max_width": null,
            "min_height": null,
            "min_width": null,
            "object_fit": null,
            "object_position": null,
            "order": null,
            "overflow": null,
            "overflow_x": null,
            "overflow_y": null,
            "padding": null,
            "right": null,
            "top": null,
            "visibility": null,
            "width": null
          }
        },
        "49e0f9bd33a94ba7998dc8c01f0b1a5a": {
          "model_module": "@jupyter-widgets/controls",
          "model_module_version": "1.5.0",
          "model_name": "DescriptionStyleModel",
          "state": {
            "_model_module": "@jupyter-widgets/controls",
            "_model_module_version": "1.5.0",
            "_model_name": "DescriptionStyleModel",
            "_view_count": null,
            "_view_module": "@jupyter-widgets/base",
            "_view_module_version": "1.2.0",
            "_view_name": "StyleView",
            "description_width": ""
          }
        },
        "4fbf4654f9b7485cba2a21e377767caa": {
          "model_module": "@jupyter-widgets/controls",
          "model_module_version": "1.5.0",
          "model_name": "DescriptionStyleModel",
          "state": {
            "_model_module": "@jupyter-widgets/controls",
            "_model_module_version": "1.5.0",
            "_model_name": "DescriptionStyleModel",
            "_view_count": null,
            "_view_module": "@jupyter-widgets/base",
            "_view_module_version": "1.2.0",
            "_view_name": "StyleView",
            "description_width": ""
          }
        },
        "518ec0f16b044cf7903269b66f0e1e40": {
          "model_module": "@jupyter-widgets/controls",
          "model_module_version": "1.5.0",
          "model_name": "HBoxModel",
          "state": {
            "_dom_classes": [],
            "_model_module": "@jupyter-widgets/controls",
            "_model_module_version": "1.5.0",
            "_model_name": "HBoxModel",
            "_view_count": null,
            "_view_module": "@jupyter-widgets/controls",
            "_view_module_version": "1.5.0",
            "_view_name": "HBoxView",
            "box_style": "",
            "children": [
              "IPY_MODEL_fa5e2b8894764ccf8cba33bad8b84893",
              "IPY_MODEL_615aee94111c4a588d077f03f0a361cc",
              "IPY_MODEL_dd9049c0749e40f1a843b4f9486cbb6d"
            ],
            "layout": "IPY_MODEL_05d4b31ef0514887a125c586957e45ad"
          }
        },
        "615aee94111c4a588d077f03f0a361cc": {
          "model_module": "@jupyter-widgets/controls",
          "model_module_version": "1.5.0",
          "model_name": "FloatProgressModel",
          "state": {
            "_dom_classes": [],
            "_model_module": "@jupyter-widgets/controls",
            "_model_module_version": "1.5.0",
            "_model_name": "FloatProgressModel",
            "_view_count": null,
            "_view_module": "@jupyter-widgets/controls",
            "_view_module_version": "1.5.0",
            "_view_name": "ProgressView",
            "bar_style": "success",
            "description": "",
            "description_tooltip": null,
            "layout": "IPY_MODEL_3de4be3ff3664f97ba791447a319ac1c",
            "max": 127657,
            "min": 0,
            "orientation": "horizontal",
            "style": "IPY_MODEL_1930e2c9210b425484b91420d7e417c6",
            "value": 127657
          }
        },
        "66dbd52d068b452b8b0ce870cb6a54e9": {
          "model_module": "@jupyter-widgets/base",
          "model_module_version": "1.2.0",
          "model_name": "LayoutModel",
          "state": {
            "_model_module": "@jupyter-widgets/base",
            "_model_module_version": "1.2.0",
            "_model_name": "LayoutModel",
            "_view_count": null,
            "_view_module": "@jupyter-widgets/base",
            "_view_module_version": "1.2.0",
            "_view_name": "LayoutView",
            "align_content": null,
            "align_items": null,
            "align_self": null,
            "border": null,
            "bottom": null,
            "display": null,
            "flex": null,
            "flex_flow": null,
            "grid_area": null,
            "grid_auto_columns": null,
            "grid_auto_flow": null,
            "grid_auto_rows": null,
            "grid_column": null,
            "grid_gap": null,
            "grid_row": null,
            "grid_template_areas": null,
            "grid_template_columns": null,
            "grid_template_rows": null,
            "height": null,
            "justify_content": null,
            "justify_items": null,
            "left": null,
            "margin": null,
            "max_height": null,
            "max_width": null,
            "min_height": null,
            "min_width": null,
            "object_fit": null,
            "object_position": null,
            "order": null,
            "overflow": null,
            "overflow_x": null,
            "overflow_y": null,
            "padding": null,
            "right": null,
            "top": null,
            "visibility": null,
            "width": null
          }
        },
        "69585ae0983b45509dd954ff6d11f5a8": {
          "model_module": "@jupyter-widgets/controls",
          "model_module_version": "1.5.0",
          "model_name": "HBoxModel",
          "state": {
            "_dom_classes": [],
            "_model_module": "@jupyter-widgets/controls",
            "_model_module_version": "1.5.0",
            "_model_name": "HBoxModel",
            "_view_count": null,
            "_view_module": "@jupyter-widgets/controls",
            "_view_module_version": "1.5.0",
            "_view_name": "HBoxView",
            "box_style": "",
            "children": [
              "IPY_MODEL_b7e87cd51c7c42cd9fa6185ec962d14f",
              "IPY_MODEL_47f8b7de738646cca7e9e55c64d6c072",
              "IPY_MODEL_eff293eec5274cecbbc0faf1352d6a09"
            ],
            "layout": "IPY_MODEL_85bf64dc61e744459f0124c12e5d85b8"
          }
        },
        "6e8ec142b7834acbbfbae0e4869f643b": {
          "model_module": "@jupyter-widgets/controls",
          "model_module_version": "1.5.0",
          "model_name": "HTMLModel",
          "state": {
            "_dom_classes": [],
            "_model_module": "@jupyter-widgets/controls",
            "_model_module_version": "1.5.0",
            "_model_name": "HTMLModel",
            "_view_count": null,
            "_view_module": "@jupyter-widgets/controls",
            "_view_module_version": "1.5.0",
            "_view_name": "HTMLView",
            "description": "",
            "description_tooltip": null,
            "layout": "IPY_MODEL_17bd5e292d6a4f7d86bd66af1fea1f65",
            "placeholder": "​",
            "style": "IPY_MODEL_c88021cc001e49d8b3bbd4c025120967",
            "value": " 31914/31914 [00:03&lt;00:00, 11980.19 examples/s]"
          }
        },
        "6f50f2ab7fd543d8bad228fd4770ca50": {
          "model_module": "@jupyter-widgets/base",
          "model_module_version": "1.2.0",
          "model_name": "LayoutModel",
          "state": {
            "_model_module": "@jupyter-widgets/base",
            "_model_module_version": "1.2.0",
            "_model_name": "LayoutModel",
            "_view_count": null,
            "_view_module": "@jupyter-widgets/base",
            "_view_module_version": "1.2.0",
            "_view_name": "LayoutView",
            "align_content": null,
            "align_items": null,
            "align_self": null,
            "border": null,
            "bottom": null,
            "display": null,
            "flex": null,
            "flex_flow": null,
            "grid_area": null,
            "grid_auto_columns": null,
            "grid_auto_flow": null,
            "grid_auto_rows": null,
            "grid_column": null,
            "grid_gap": null,
            "grid_row": null,
            "grid_template_areas": null,
            "grid_template_columns": null,
            "grid_template_rows": null,
            "height": null,
            "justify_content": null,
            "justify_items": null,
            "left": null,
            "margin": null,
            "max_height": null,
            "max_width": null,
            "min_height": null,
            "min_width": null,
            "object_fit": null,
            "object_position": null,
            "order": null,
            "overflow": null,
            "overflow_x": null,
            "overflow_y": null,
            "padding": null,
            "right": null,
            "top": null,
            "visibility": null,
            "width": null
          }
        },
        "7bf443c7cb0444e19853b04d50d1e956": {
          "model_module": "@jupyter-widgets/base",
          "model_module_version": "1.2.0",
          "model_name": "LayoutModel",
          "state": {
            "_model_module": "@jupyter-widgets/base",
            "_model_module_version": "1.2.0",
            "_model_name": "LayoutModel",
            "_view_count": null,
            "_view_module": "@jupyter-widgets/base",
            "_view_module_version": "1.2.0",
            "_view_name": "LayoutView",
            "align_content": null,
            "align_items": null,
            "align_self": null,
            "border": null,
            "bottom": null,
            "display": null,
            "flex": null,
            "flex_flow": null,
            "grid_area": null,
            "grid_auto_columns": null,
            "grid_auto_flow": null,
            "grid_auto_rows": null,
            "grid_column": null,
            "grid_gap": null,
            "grid_row": null,
            "grid_template_areas": null,
            "grid_template_columns": null,
            "grid_template_rows": null,
            "height": null,
            "justify_content": null,
            "justify_items": null,
            "left": null,
            "margin": null,
            "max_height": null,
            "max_width": null,
            "min_height": null,
            "min_width": null,
            "object_fit": null,
            "object_position": null,
            "order": null,
            "overflow": null,
            "overflow_x": null,
            "overflow_y": null,
            "padding": null,
            "right": null,
            "top": null,
            "visibility": null,
            "width": null
          }
        },
        "85bf64dc61e744459f0124c12e5d85b8": {
          "model_module": "@jupyter-widgets/base",
          "model_module_version": "1.2.0",
          "model_name": "LayoutModel",
          "state": {
            "_model_module": "@jupyter-widgets/base",
            "_model_module_version": "1.2.0",
            "_model_name": "LayoutModel",
            "_view_count": null,
            "_view_module": "@jupyter-widgets/base",
            "_view_module_version": "1.2.0",
            "_view_name": "LayoutView",
            "align_content": null,
            "align_items": null,
            "align_self": null,
            "border": null,
            "bottom": null,
            "display": null,
            "flex": null,
            "flex_flow": null,
            "grid_area": null,
            "grid_auto_columns": null,
            "grid_auto_flow": null,
            "grid_auto_rows": null,
            "grid_column": null,
            "grid_gap": null,
            "grid_row": null,
            "grid_template_areas": null,
            "grid_template_columns": null,
            "grid_template_rows": null,
            "height": null,
            "justify_content": null,
            "justify_items": null,
            "left": null,
            "margin": null,
            "max_height": null,
            "max_width": null,
            "min_height": null,
            "min_width": null,
            "object_fit": null,
            "object_position": null,
            "order": null,
            "overflow": null,
            "overflow_x": null,
            "overflow_y": null,
            "padding": null,
            "right": null,
            "top": null,
            "visibility": null,
            "width": null
          }
        },
        "864179996007457787aa8d109710f761": {
          "model_module": "@jupyter-widgets/controls",
          "model_module_version": "1.5.0",
          "model_name": "DescriptionStyleModel",
          "state": {
            "_model_module": "@jupyter-widgets/controls",
            "_model_module_version": "1.5.0",
            "_model_name": "DescriptionStyleModel",
            "_view_count": null,
            "_view_module": "@jupyter-widgets/base",
            "_view_module_version": "1.2.0",
            "_view_name": "StyleView",
            "description_width": ""
          }
        },
        "8b7aefc4fa3d4890a2d247ba100ed1d4": {
          "model_module": "@jupyter-widgets/base",
          "model_module_version": "1.2.0",
          "model_name": "LayoutModel",
          "state": {
            "_model_module": "@jupyter-widgets/base",
            "_model_module_version": "1.2.0",
            "_model_name": "LayoutModel",
            "_view_count": null,
            "_view_module": "@jupyter-widgets/base",
            "_view_module_version": "1.2.0",
            "_view_name": "LayoutView",
            "align_content": null,
            "align_items": null,
            "align_self": null,
            "border": null,
            "bottom": null,
            "display": null,
            "flex": null,
            "flex_flow": null,
            "grid_area": null,
            "grid_auto_columns": null,
            "grid_auto_flow": null,
            "grid_auto_rows": null,
            "grid_column": null,
            "grid_gap": null,
            "grid_row": null,
            "grid_template_areas": null,
            "grid_template_columns": null,
            "grid_template_rows": null,
            "height": null,
            "justify_content": null,
            "justify_items": null,
            "left": null,
            "margin": null,
            "max_height": null,
            "max_width": null,
            "min_height": null,
            "min_width": null,
            "object_fit": null,
            "object_position": null,
            "order": null,
            "overflow": null,
            "overflow_x": null,
            "overflow_y": null,
            "padding": null,
            "right": null,
            "top": null,
            "visibility": null,
            "width": null
          }
        },
        "930e426e9682451fbce8c4dcd8fb8ba1": {
          "model_module": "@jupyter-widgets/base",
          "model_module_version": "1.2.0",
          "model_name": "LayoutModel",
          "state": {
            "_model_module": "@jupyter-widgets/base",
            "_model_module_version": "1.2.0",
            "_model_name": "LayoutModel",
            "_view_count": null,
            "_view_module": "@jupyter-widgets/base",
            "_view_module_version": "1.2.0",
            "_view_name": "LayoutView",
            "align_content": null,
            "align_items": null,
            "align_self": null,
            "border": null,
            "bottom": null,
            "display": null,
            "flex": null,
            "flex_flow": null,
            "grid_area": null,
            "grid_auto_columns": null,
            "grid_auto_flow": null,
            "grid_auto_rows": null,
            "grid_column": null,
            "grid_gap": null,
            "grid_row": null,
            "grid_template_areas": null,
            "grid_template_columns": null,
            "grid_template_rows": null,
            "height": null,
            "justify_content": null,
            "justify_items": null,
            "left": null,
            "margin": null,
            "max_height": null,
            "max_width": null,
            "min_height": null,
            "min_width": null,
            "object_fit": null,
            "object_position": null,
            "order": null,
            "overflow": null,
            "overflow_x": null,
            "overflow_y": null,
            "padding": null,
            "right": null,
            "top": null,
            "visibility": null,
            "width": null
          }
        },
        "b7e87cd51c7c42cd9fa6185ec962d14f": {
          "model_module": "@jupyter-widgets/controls",
          "model_module_version": "1.5.0",
          "model_name": "HTMLModel",
          "state": {
            "_dom_classes": [],
            "_model_module": "@jupyter-widgets/controls",
            "_model_module_version": "1.5.0",
            "_model_name": "HTMLModel",
            "_view_count": null,
            "_view_module": "@jupyter-widgets/controls",
            "_view_module_version": "1.5.0",
            "_view_name": "HTMLView",
            "description": "",
            "description_tooltip": null,
            "layout": "IPY_MODEL_930e426e9682451fbce8c4dcd8fb8ba1",
            "placeholder": "​",
            "style": "IPY_MODEL_03de5c35b15e4ea59cab52b7983ba847",
            "value": "Map: 100%"
          }
        },
        "bf49beaa98ee425aad9fb0c0bb7bbfc1": {
          "model_module": "@jupyter-widgets/controls",
          "model_module_version": "1.5.0",
          "model_name": "HTMLModel",
          "state": {
            "_dom_classes": [],
            "_model_module": "@jupyter-widgets/controls",
            "_model_module_version": "1.5.0",
            "_model_name": "HTMLModel",
            "_view_count": null,
            "_view_module": "@jupyter-widgets/controls",
            "_view_module_version": "1.5.0",
            "_view_name": "HTMLView",
            "description": "",
            "description_tooltip": null,
            "layout": "IPY_MODEL_f0627ea72f32401085fffeb6826e9797",
            "placeholder": "​",
            "style": "IPY_MODEL_864179996007457787aa8d109710f761",
            "value": " 127657/127657 [00:37&lt;00:00, 3805.91 examples/s]"
          }
        },
        "c61a6813eb8d45c5b785481c22cf6855": {
          "model_module": "@jupyter-widgets/controls",
          "model_module_version": "1.5.0",
          "model_name": "DescriptionStyleModel",
          "state": {
            "_model_module": "@jupyter-widgets/controls",
            "_model_module_version": "1.5.0",
            "_model_name": "DescriptionStyleModel",
            "_view_count": null,
            "_view_module": "@jupyter-widgets/base",
            "_view_module_version": "1.2.0",
            "_view_name": "StyleView",
            "description_width": ""
          }
        },
        "c88021cc001e49d8b3bbd4c025120967": {
          "model_module": "@jupyter-widgets/controls",
          "model_module_version": "1.5.0",
          "model_name": "DescriptionStyleModel",
          "state": {
            "_model_module": "@jupyter-widgets/controls",
            "_model_module_version": "1.5.0",
            "_model_name": "DescriptionStyleModel",
            "_view_count": null,
            "_view_module": "@jupyter-widgets/base",
            "_view_module_version": "1.2.0",
            "_view_name": "StyleView",
            "description_width": ""
          }
        },
        "cd0fca7fc8f94f6abe334f2aaebc9e5b": {
          "model_module": "@jupyter-widgets/controls",
          "model_module_version": "1.5.0",
          "model_name": "DescriptionStyleModel",
          "state": {
            "_model_module": "@jupyter-widgets/controls",
            "_model_module_version": "1.5.0",
            "_model_name": "DescriptionStyleModel",
            "_view_count": null,
            "_view_module": "@jupyter-widgets/base",
            "_view_module_version": "1.2.0",
            "_view_name": "StyleView",
            "description_width": ""
          }
        },
        "cd3ebe9719974f9abc214ef8c0a6147f": {
          "model_module": "@jupyter-widgets/controls",
          "model_module_version": "1.5.0",
          "model_name": "HTMLModel",
          "state": {
            "_dom_classes": [],
            "_model_module": "@jupyter-widgets/controls",
            "_model_module_version": "1.5.0",
            "_model_name": "HTMLModel",
            "_view_count": null,
            "_view_module": "@jupyter-widgets/controls",
            "_view_module_version": "1.5.0",
            "_view_name": "HTMLView",
            "description": "",
            "description_tooltip": null,
            "layout": "IPY_MODEL_8b7aefc4fa3d4890a2d247ba100ed1d4",
            "placeholder": "​",
            "style": "IPY_MODEL_e5c6f3f34c47450d92554f71de163707",
            "value": "Map: 100%"
          }
        },
        "dd9049c0749e40f1a843b4f9486cbb6d": {
          "model_module": "@jupyter-widgets/controls",
          "model_module_version": "1.5.0",
          "model_name": "HTMLModel",
          "state": {
            "_dom_classes": [],
            "_model_module": "@jupyter-widgets/controls",
            "_model_module_version": "1.5.0",
            "_model_name": "HTMLModel",
            "_view_count": null,
            "_view_module": "@jupyter-widgets/controls",
            "_view_module_version": "1.5.0",
            "_view_name": "HTMLView",
            "description": "",
            "description_tooltip": null,
            "layout": "IPY_MODEL_10797369ada348efb0c622d05e1b0af4",
            "placeholder": "​",
            "style": "IPY_MODEL_4fbf4654f9b7485cba2a21e377767caa",
            "value": " 127657/127657 [00:19&lt;00:00, 8377.20 examples/s]"
          }
        },
        "e5c6f3f34c47450d92554f71de163707": {
          "model_module": "@jupyter-widgets/controls",
          "model_module_version": "1.5.0",
          "model_name": "DescriptionStyleModel",
          "state": {
            "_model_module": "@jupyter-widgets/controls",
            "_model_module_version": "1.5.0",
            "_model_name": "DescriptionStyleModel",
            "_view_count": null,
            "_view_module": "@jupyter-widgets/base",
            "_view_module_version": "1.2.0",
            "_view_name": "StyleView",
            "description_width": ""
          }
        },
        "eff293eec5274cecbbc0faf1352d6a09": {
          "model_module": "@jupyter-widgets/controls",
          "model_module_version": "1.5.0",
          "model_name": "HTMLModel",
          "state": {
            "_dom_classes": [],
            "_model_module": "@jupyter-widgets/controls",
            "_model_module_version": "1.5.0",
            "_model_name": "HTMLModel",
            "_view_count": null,
            "_view_module": "@jupyter-widgets/controls",
            "_view_module_version": "1.5.0",
            "_view_name": "HTMLView",
            "description": "",
            "description_tooltip": null,
            "layout": "IPY_MODEL_7bf443c7cb0444e19853b04d50d1e956",
            "placeholder": "​",
            "style": "IPY_MODEL_cd0fca7fc8f94f6abe334f2aaebc9e5b",
            "value": " 31914/31914 [00:16&lt;00:00, 3635.16 examples/s]"
          }
        },
        "f0627ea72f32401085fffeb6826e9797": {
          "model_module": "@jupyter-widgets/base",
          "model_module_version": "1.2.0",
          "model_name": "LayoutModel",
          "state": {
            "_model_module": "@jupyter-widgets/base",
            "_model_module_version": "1.2.0",
            "_model_name": "LayoutModel",
            "_view_count": null,
            "_view_module": "@jupyter-widgets/base",
            "_view_module_version": "1.2.0",
            "_view_name": "LayoutView",
            "align_content": null,
            "align_items": null,
            "align_self": null,
            "border": null,
            "bottom": null,
            "display": null,
            "flex": null,
            "flex_flow": null,
            "grid_area": null,
            "grid_auto_columns": null,
            "grid_auto_flow": null,
            "grid_auto_rows": null,
            "grid_column": null,
            "grid_gap": null,
            "grid_row": null,
            "grid_template_areas": null,
            "grid_template_columns": null,
            "grid_template_rows": null,
            "height": null,
            "justify_content": null,
            "justify_items": null,
            "left": null,
            "margin": null,
            "max_height": null,
            "max_width": null,
            "min_height": null,
            "min_width": null,
            "object_fit": null,
            "object_position": null,
            "order": null,
            "overflow": null,
            "overflow_x": null,
            "overflow_y": null,
            "padding": null,
            "right": null,
            "top": null,
            "visibility": null,
            "width": null
          }
        },
        "f59220bf6dff4623a85572b615737807": {
          "model_module": "@jupyter-widgets/base",
          "model_module_version": "1.2.0",
          "model_name": "LayoutModel",
          "state": {
            "_model_module": "@jupyter-widgets/base",
            "_model_module_version": "1.2.0",
            "_model_name": "LayoutModel",
            "_view_count": null,
            "_view_module": "@jupyter-widgets/base",
            "_view_module_version": "1.2.0",
            "_view_name": "LayoutView",
            "align_content": null,
            "align_items": null,
            "align_self": null,
            "border": null,
            "bottom": null,
            "display": null,
            "flex": null,
            "flex_flow": null,
            "grid_area": null,
            "grid_auto_columns": null,
            "grid_auto_flow": null,
            "grid_auto_rows": null,
            "grid_column": null,
            "grid_gap": null,
            "grid_row": null,
            "grid_template_areas": null,
            "grid_template_columns": null,
            "grid_template_rows": null,
            "height": null,
            "justify_content": null,
            "justify_items": null,
            "left": null,
            "margin": null,
            "max_height": null,
            "max_width": null,
            "min_height": null,
            "min_width": null,
            "object_fit": null,
            "object_position": null,
            "order": null,
            "overflow": null,
            "overflow_x": null,
            "overflow_y": null,
            "padding": null,
            "right": null,
            "top": null,
            "visibility": null,
            "width": null
          }
        },
        "fa5e2b8894764ccf8cba33bad8b84893": {
          "model_module": "@jupyter-widgets/controls",
          "model_module_version": "1.5.0",
          "model_name": "HTMLModel",
          "state": {
            "_dom_classes": [],
            "_model_module": "@jupyter-widgets/controls",
            "_model_module_version": "1.5.0",
            "_model_name": "HTMLModel",
            "_view_count": null,
            "_view_module": "@jupyter-widgets/controls",
            "_view_module_version": "1.5.0",
            "_view_name": "HTMLView",
            "description": "",
            "description_tooltip": null,
            "layout": "IPY_MODEL_f59220bf6dff4623a85572b615737807",
            "placeholder": "​",
            "style": "IPY_MODEL_c61a6813eb8d45c5b785481c22cf6855",
            "value": "Map: 100%"
          }
        }
      }
    }
  },
  "nbformat": 4,
  "nbformat_minor": 5
}